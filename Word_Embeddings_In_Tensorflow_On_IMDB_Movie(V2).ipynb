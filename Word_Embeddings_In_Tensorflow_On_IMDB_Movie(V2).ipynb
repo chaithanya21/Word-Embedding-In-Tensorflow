{
  "nbformat": 4,
  "nbformat_minor": 0,
  "metadata": {
    "colab": {
      "name": "Word Embeddings In Tensorflow On IMDB  Movie ",
      "provenance": [],
      "authorship_tag": "ABX9TyM3ljuhk9UmgGSGV4twqgBT",
      "include_colab_link": true
    },
    "kernelspec": {
      "name": "python3",
      "display_name": "Python 3"
    }
  },
  "cells": [
    {
      "cell_type": "markdown",
      "metadata": {
        "id": "view-in-github",
        "colab_type": "text"
      },
      "source": [
        "<a href=\"https://colab.research.google.com/github/chaithanya21/Word-Embedding-In-Tensorflow/blob/master/Word_Embeddings_In_Tensorflow_On_IMDB_Movie(V2).ipynb\" target=\"_parent\"><img src=\"https://colab.research.google.com/assets/colab-badge.svg\" alt=\"Open In Colab\"/></a>"
      ]
    },
    {
      "cell_type": "code",
      "metadata": {
        "id": "b5-QY63Yad_G",
        "colab_type": "code",
        "colab": {}
      },
      "source": [
        "!pip install tensorflow==2.0.0"
      ],
      "execution_count": 0,
      "outputs": []
    },
    {
      "cell_type": "code",
      "metadata": {
        "id": "IetsHNbJoJgd",
        "colab_type": "code",
        "colab": {
          "base_uri": "https://localhost:8080/",
          "height": 34
        },
        "outputId": "8b754a41-22f4-41c7-89ec-aa0000cc0bfc"
      },
      "source": [
        "import tensorflow as tf\n",
        "print(tf.__version__)"
      ],
      "execution_count": 26,
      "outputs": [
        {
          "output_type": "stream",
          "text": [
            "2.0.0\n"
          ],
          "name": "stdout"
        }
      ]
    },
    {
      "cell_type": "code",
      "metadata": {
        "id": "MLEub5tgofI5",
        "colab_type": "code",
        "colab": {}
      },
      "source": [
        "!pip install -q tensorflow-datasets"
      ],
      "execution_count": 0,
      "outputs": []
    },
    {
      "cell_type": "code",
      "metadata": {
        "id": "cTF2n-dpoubZ",
        "colab_type": "code",
        "colab": {}
      },
      "source": [
        "import tensorflow_datasets as tfds"
      ],
      "execution_count": 0,
      "outputs": []
    },
    {
      "cell_type": "code",
      "metadata": {
        "id": "pwkugIqbozCC",
        "colab_type": "code",
        "colab": {}
      },
      "source": [
        "imdb,info=tfds.load('imdb_reviews',with_info=True,as_supervised=True)"
      ],
      "execution_count": 0,
      "outputs": []
    },
    {
      "cell_type": "code",
      "metadata": {
        "id": "wWPn6OsPpO9V",
        "colab_type": "code",
        "colab": {}
      },
      "source": [
        "Training_data,Test_data=imdb['train'],imdb['test']"
      ],
      "execution_count": 0,
      "outputs": []
    },
    {
      "cell_type": "code",
      "metadata": {
        "id": "CMBcm4ncq2FO",
        "colab_type": "code",
        "colab": {}
      },
      "source": [
        "Training_Sentences=[]\n",
        "Training_labels=[]\n",
        "\n"
      ],
      "execution_count": 0,
      "outputs": []
    },
    {
      "cell_type": "code",
      "metadata": {
        "id": "-dAsJMxosNs5",
        "colab_type": "code",
        "colab": {
          "base_uri": "https://localhost:8080/",
          "height": 34
        },
        "outputId": "88064dd8-cc47-4390-ecab-8997704a0e80"
      },
      "source": [
        "type(Training_data)"
      ],
      "execution_count": 32,
      "outputs": [
        {
          "output_type": "execute_result",
          "data": {
            "text/plain": [
              "tensorflow.python.data.ops.dataset_ops.DatasetV1Adapter"
            ]
          },
          "metadata": {
            "tags": []
          },
          "execution_count": 32
        }
      ]
    },
    {
      "cell_type": "code",
      "metadata": {
        "id": "gm5Pifg2sQqX",
        "colab_type": "code",
        "colab": {}
      },
      "source": [
        "for s,l in Training_data:\n",
        "  Training_Sentences.append(str(s.numpy()))\n",
        "  Training_labels.append(l.numpy())\n"
      ],
      "execution_count": 0,
      "outputs": []
    },
    {
      "cell_type": "code",
      "metadata": {
        "id": "TtDPfHlrv8gG",
        "colab_type": "code",
        "colab": {
          "base_uri": "https://localhost:8080/",
          "height": 54
        },
        "outputId": "1bcb50bd-aaed-480b-a883-ea0237de2bec"
      },
      "source": [
        "Training_Sentences[0]"
      ],
      "execution_count": 34,
      "outputs": [
        {
          "output_type": "execute_result",
          "data": {
            "text/plain": [
              "'b\"This was an absolutely terrible movie. Don\\'t be lured in by Christopher Walken or Michael Ironside. Both are great actors, but this must simply be their worst role in history. Even their great acting could not redeem this movie\\'s ridiculous storyline. This movie is an early nineties US propaganda piece. The most pathetic scenes were those when the Columbian rebels were making their cases for revolutions. Maria Conchita Alonso appeared phony, and her pseudo-love affair with Walken was nothing but a pathetic emotional plug in a movie that was devoid of any real meaning. I am disappointed that there are movies like this, ruining actor\\'s like Christopher Walken\\'s good name. I could barely sit through it.\"'"
            ]
          },
          "metadata": {
            "tags": []
          },
          "execution_count": 34
        }
      ]
    },
    {
      "cell_type": "code",
      "metadata": {
        "id": "d-JBadyDwANP",
        "colab_type": "code",
        "colab": {
          "base_uri": "https://localhost:8080/",
          "height": 34
        },
        "outputId": "7f7b6b95-70d1-4723-c1d8-a9015838286f"
      },
      "source": [
        "Training_labels[0]"
      ],
      "execution_count": 35,
      "outputs": [
        {
          "output_type": "execute_result",
          "data": {
            "text/plain": [
              "0"
            ]
          },
          "metadata": {
            "tags": []
          },
          "execution_count": 35
        }
      ]
    },
    {
      "cell_type": "code",
      "metadata": {
        "id": "tjW-1s6xwNBE",
        "colab_type": "code",
        "colab": {}
      },
      "source": [
        "Test_sentences=[]\n",
        "Test_Labels=[]\n",
        "\n",
        "for s,l in Test_data:\n",
        "  Test_sentences.append(str(s.numpy()))\n",
        "  Test_Labels.append(l.numpy())"
      ],
      "execution_count": 0,
      "outputs": []
    },
    {
      "cell_type": "code",
      "metadata": {
        "id": "sgAbgY1swl6a",
        "colab_type": "code",
        "colab": {
          "base_uri": "https://localhost:8080/",
          "height": 52
        },
        "outputId": "f9b89b34-54b6-48af-8075-92babcc44087"
      },
      "source": [
        "print('Number of Training Examples:',len(Training_Sentences))\n",
        "print('Number of Test Examples:',len(Test_sentences))\n"
      ],
      "execution_count": 37,
      "outputs": [
        {
          "output_type": "stream",
          "text": [
            "Number of Training Examples: 25000\n",
            "Number of Test Examples: 25000\n"
          ],
          "name": "stdout"
        }
      ]
    },
    {
      "cell_type": "code",
      "metadata": {
        "id": "2316ofInwyE3",
        "colab_type": "code",
        "colab": {
          "base_uri": "https://localhost:8080/",
          "height": 34
        },
        "outputId": "0c78692e-76d9-4b15-b129-1145ddcce157"
      },
      "source": [
        "type(Training_labels)"
      ],
      "execution_count": 38,
      "outputs": [
        {
          "output_type": "execute_result",
          "data": {
            "text/plain": [
              "list"
            ]
          },
          "metadata": {
            "tags": []
          },
          "execution_count": 38
        }
      ]
    },
    {
      "cell_type": "code",
      "metadata": {
        "id": "0CvuW10DxRse",
        "colab_type": "code",
        "colab": {}
      },
      "source": [
        "import numpy as np"
      ],
      "execution_count": 0,
      "outputs": []
    },
    {
      "cell_type": "code",
      "metadata": {
        "id": "b70RsNBZxYim",
        "colab_type": "code",
        "colab": {}
      },
      "source": [
        "Training_labels_final=np.array(Training_labels)\n",
        "Test_Labels_Final=np.array(Test_Labels)"
      ],
      "execution_count": 0,
      "outputs": []
    },
    {
      "cell_type": "code",
      "metadata": {
        "id": "pPpyJR70xiMo",
        "colab_type": "code",
        "colab": {
          "base_uri": "https://localhost:8080/",
          "height": 34
        },
        "outputId": "b6763afd-98d7-4417-f3c6-332b540c8d8b"
      },
      "source": [
        "Training_labels_final"
      ],
      "execution_count": 41,
      "outputs": [
        {
          "output_type": "execute_result",
          "data": {
            "text/plain": [
              "array([0, 0, 0, ..., 0, 0, 1])"
            ]
          },
          "metadata": {
            "tags": []
          },
          "execution_count": 41
        }
      ]
    },
    {
      "cell_type": "code",
      "metadata": {
        "id": "597CKSGuxkJd",
        "colab_type": "code",
        "colab": {}
      },
      "source": [
        "from tensorflow.keras.preprocessing.text import  Tokenizer\n",
        "from tensorflow.keras.preprocessing.sequence import pad_sequences"
      ],
      "execution_count": 0,
      "outputs": []
    },
    {
      "cell_type": "code",
      "metadata": {
        "id": "yuisXAlMx0qs",
        "colab_type": "code",
        "colab": {}
      },
      "source": [
        "vocab_size=10000\n",
        "oov_token='<OOV>'\n"
      ],
      "execution_count": 0,
      "outputs": []
    },
    {
      "cell_type": "code",
      "metadata": {
        "id": "97ccRyOB25ff",
        "colab_type": "code",
        "colab": {}
      },
      "source": [
        "tokenizer=Tokenizer(num_words=vocab_size,oov_token=oov_token)"
      ],
      "execution_count": 0,
      "outputs": []
    },
    {
      "cell_type": "code",
      "metadata": {
        "id": "q2bZL6aN3cnB",
        "colab_type": "code",
        "colab": {}
      },
      "source": [
        "tokenizer.fit_on_texts(Training_Sentences)"
      ],
      "execution_count": 0,
      "outputs": []
    },
    {
      "cell_type": "code",
      "metadata": {
        "id": "qGATTWR13guz",
        "colab_type": "code",
        "colab": {}
      },
      "source": [
        "Word_Index=tokenizer.word_index"
      ],
      "execution_count": 0,
      "outputs": []
    },
    {
      "cell_type": "code",
      "metadata": {
        "id": "rosbHapi3nJc",
        "colab_type": "code",
        "colab": {}
      },
      "source": [
        "print('Word_Index:',Word_Index)\n",
        "print('Nmber of Unique Words:',len(Word_Index))"
      ],
      "execution_count": 0,
      "outputs": []
    },
    {
      "cell_type": "code",
      "metadata": {
        "id": "eKaFGXYd3yMu",
        "colab_type": "code",
        "colab": {}
      },
      "source": [
        "Training_Sequences=tokenizer.texts_to_sequences(Training_Sentences)"
      ],
      "execution_count": 0,
      "outputs": []
    },
    {
      "cell_type": "code",
      "metadata": {
        "id": "0XvdT3e64Brv",
        "colab_type": "code",
        "colab": {}
      },
      "source": [
        "Training_Sequences[0]"
      ],
      "execution_count": 0,
      "outputs": []
    },
    {
      "cell_type": "code",
      "metadata": {
        "id": "6QDkUTcM4EiS",
        "colab_type": "code",
        "colab": {}
      },
      "source": [
        "Padded_sequences=pad_sequences(Training_Sequences,maxlen=120,truncating='post')"
      ],
      "execution_count": 0,
      "outputs": []
    },
    {
      "cell_type": "code",
      "metadata": {
        "id": "6w4zvHHw4Wia",
        "colab_type": "code",
        "colab": {
          "base_uri": "https://localhost:8080/",
          "height": 230
        },
        "outputId": "1adf5b62-03cf-4472-8e64-5b8736e93a1f"
      },
      "source": [
        "Padded_sequences[0]"
      ],
      "execution_count": 53,
      "outputs": [
        {
          "output_type": "execute_result",
          "data": {
            "text/plain": [
              "array([   0,    0,   59,   12,   14,   35,  439,  400,   18,  174,   29,\n",
              "          1,    9,   33, 1378, 3401,   42,  496,    1,  197,   25,   88,\n",
              "        156,   19,   12,  211,  340,   29,   70,  248,  213,    9,  486,\n",
              "         62,   70,   88,  116,   99,   24, 5740,   12, 3317,  657,  777,\n",
              "         12,   18,    7,   35,  406, 8228,  178, 2477,  426,    2,   92,\n",
              "       1253,  140,   72,  149,   55,    2,    1, 7525,   72,  229,   70,\n",
              "       2962,   16,    1, 2880,    1,    1, 1506, 4998,    3,   40, 3947,\n",
              "        119, 1608,   17, 3401,   14,  163,   19,    4, 1253,  927, 7986,\n",
              "          9,    4,   18,   13,   14, 4200,    5,  102,  148, 1237,   11,\n",
              "        240,  692,   13,   44,   25,  101,   39,   12, 7232,    1,   39,\n",
              "       1378,    1,   52,  409,   11,   99, 1214,  874,  145,   10],\n",
              "      dtype=int32)"
            ]
          },
          "metadata": {
            "tags": []
          },
          "execution_count": 53
        }
      ]
    },
    {
      "cell_type": "code",
      "metadata": {
        "id": "NaIU7Ep24YBU",
        "colab_type": "code",
        "colab": {}
      },
      "source": [
        "Test_Sequences=tokenizer.texts_to_sequences(Test_sentences)"
      ],
      "execution_count": 0,
      "outputs": []
    },
    {
      "cell_type": "code",
      "metadata": {
        "id": "GJtbyIRK4o7X",
        "colab_type": "code",
        "colab": {}
      },
      "source": [
        "Pad_Test_Sequences=pad_sequences(Test_Sequences,maxlen=120,truncating='post')"
      ],
      "execution_count": 0,
      "outputs": []
    },
    {
      "cell_type": "code",
      "metadata": {
        "id": "DlTdDDPE4wgJ",
        "colab_type": "code",
        "colab": {}
      },
      "source": [
        "Test_Sequences[0]"
      ],
      "execution_count": 0,
      "outputs": []
    },
    {
      "cell_type": "code",
      "metadata": {
        "id": "qoaeNPL040sT",
        "colab_type": "code",
        "colab": {}
      },
      "source": [
        "model=tf.keras.models.Sequential([\n",
        "                                  tf.keras.layers.Embedding(vocab_size,16,input_length=120),\n",
        "                                  tf.keras.layers.Flatten(),\n",
        "                                  tf.keras.layers.Dense(6,activation='relu'),\n",
        "                                  tf.keras.layers.Dense(1,activation='sigmoid')\n",
        "])"
      ],
      "execution_count": 0,
      "outputs": []
    },
    {
      "cell_type": "code",
      "metadata": {
        "id": "UfUA07_z6Coj",
        "colab_type": "code",
        "colab": {
          "base_uri": "https://localhost:8080/",
          "height": 301
        },
        "outputId": "b05e9d0f-9e44-4d35-f8bd-17c4dfc9f6ac"
      },
      "source": [
        "model.summary()"
      ],
      "execution_count": 61,
      "outputs": [
        {
          "output_type": "stream",
          "text": [
            "Model: \"sequential\"\n",
            "_________________________________________________________________\n",
            "Layer (type)                 Output Shape              Param #   \n",
            "=================================================================\n",
            "embedding_1 (Embedding)      (None, 120, 16)           160000    \n",
            "_________________________________________________________________\n",
            "flatten_1 (Flatten)          (None, 1920)              0         \n",
            "_________________________________________________________________\n",
            "dense_1 (Dense)              (None, 6)                 11526     \n",
            "_________________________________________________________________\n",
            "dense_2 (Dense)              (None, 1)                 7         \n",
            "=================================================================\n",
            "Total params: 171,533\n",
            "Trainable params: 171,533\n",
            "Non-trainable params: 0\n",
            "_________________________________________________________________\n"
          ],
          "name": "stdout"
        }
      ]
    },
    {
      "cell_type": "code",
      "metadata": {
        "id": "InxdgZIB6MLL",
        "colab_type": "code",
        "colab": {}
      },
      "source": [
        "model.compile(loss='binary_crossentropy',optimizer='adam',metrics=['accuracy'])"
      ],
      "execution_count": 0,
      "outputs": []
    },
    {
      "cell_type": "code",
      "metadata": {
        "id": "v71m_itx6YlY",
        "colab_type": "code",
        "colab": {
          "base_uri": "https://localhost:8080/",
          "height": 407
        },
        "outputId": "15202233-8b20-42fa-c2e0-35fb5f93817e"
      },
      "source": [
        "num_epochs = 10\n",
        "model.fit(Padded_sequences,Training_labels_final,epochs=num_epochs,validation_data=(Pad_Test_Sequences,Test_Labels_Final))"
      ],
      "execution_count": 63,
      "outputs": [
        {
          "output_type": "stream",
          "text": [
            "Train on 25000 samples, validate on 25000 samples\n",
            "Epoch 1/10\n",
            "25000/25000 [==============================] - 7s 262us/sample - loss: 0.5046 - accuracy: 0.7295 - val_loss: 0.3871 - val_accuracy: 0.8254\n",
            "Epoch 2/10\n",
            "25000/25000 [==============================] - 5s 214us/sample - loss: 0.2363 - accuracy: 0.9106 - val_loss: 0.4194 - val_accuracy: 0.8143\n",
            "Epoch 3/10\n",
            "25000/25000 [==============================] - 6s 229us/sample - loss: 0.0834 - accuracy: 0.9787 - val_loss: 0.5271 - val_accuracy: 0.8027\n",
            "Epoch 4/10\n",
            "25000/25000 [==============================] - 5s 217us/sample - loss: 0.0208 - accuracy: 0.9974 - val_loss: 0.6062 - val_accuracy: 0.8056\n",
            "Epoch 5/10\n",
            "25000/25000 [==============================] - 5s 208us/sample - loss: 0.0061 - accuracy: 0.9994 - val_loss: 0.6798 - val_accuracy: 0.8080\n",
            "Epoch 6/10\n",
            "25000/25000 [==============================] - 5s 206us/sample - loss: 0.0022 - accuracy: 0.9998 - val_loss: 0.7398 - val_accuracy: 0.8058\n",
            "Epoch 7/10\n",
            "25000/25000 [==============================] - 5s 207us/sample - loss: 8.6536e-04 - accuracy: 1.0000 - val_loss: 0.7908 - val_accuracy: 0.8069\n",
            "Epoch 8/10\n",
            "25000/25000 [==============================] - 5s 208us/sample - loss: 4.5121e-04 - accuracy: 1.0000 - val_loss: 0.8368 - val_accuracy: 0.8079\n",
            "Epoch 9/10\n",
            "25000/25000 [==============================] - 5s 208us/sample - loss: 2.7217e-04 - accuracy: 1.0000 - val_loss: 0.8811 - val_accuracy: 0.8077\n",
            "Epoch 10/10\n",
            "25000/25000 [==============================] - 5s 206us/sample - loss: 1.5740e-04 - accuracy: 1.0000 - val_loss: 0.9251 - val_accuracy: 0.8070\n"
          ],
          "name": "stdout"
        },
        {
          "output_type": "execute_result",
          "data": {
            "text/plain": [
              "<tensorflow.python.keras.callbacks.History at 0x7f16359a0518>"
            ]
          },
          "metadata": {
            "tags": []
          },
          "execution_count": 63
        }
      ]
    },
    {
      "cell_type": "code",
      "metadata": {
        "id": "wfrBdbM06x4y",
        "colab_type": "code",
        "colab": {
          "base_uri": "https://localhost:8080/",
          "height": 34
        },
        "outputId": "bd4e4a97-2c58-496e-bdff-5e87ee54ad33"
      },
      "source": [
        "e = model.layers[0]\n",
        "weights = e.get_weights()[0]\n",
        "print(weights.shape) # shape: (vocab_size, embedding_dim)"
      ],
      "execution_count": 64,
      "outputs": [
        {
          "output_type": "stream",
          "text": [
            "(10000, 16)\n"
          ],
          "name": "stdout"
        }
      ]
    },
    {
      "cell_type": "code",
      "metadata": {
        "id": "n1bic_zY-1sQ",
        "colab_type": "code",
        "colab": {
          "base_uri": "https://localhost:8080/",
          "height": 72
        },
        "outputId": "75e22be1-2ca0-4dcc-83a7-d11948f74f82"
      },
      "source": [
        "reverse_word_index = dict([(value, key) for (key, value) in Word_Index.items()])\n",
        "\n",
        "def decode_review(text):\n",
        "    return ' '.join([reverse_word_index.get(i, '?') for i in text])\n",
        "\n",
        "print(decode_review(Padded_sequences[1]))\n",
        "print(Training_Sentences[1])"
      ],
      "execution_count": 71,
      "outputs": [
        {
          "output_type": "stream",
          "text": [
            "? ? ? ? ? ? ? b'i have been known to fall asleep during films but this is usually due to a combination of things including really tired being warm and comfortable on the <OOV> and having just eaten a lot however on this occasion i fell asleep because the film was rubbish the plot development was constant constantly slow and boring things seemed to happen but with no explanation of what was causing them or why i admit i may have missed part of the film but i watched the majority of it and everything just seemed to happen of its own <OOV> without any real concern for anything else i cant recommend this film at all '\n",
            "b'I have been known to fall asleep during films, but this is usually due to a combination of things including, really tired, being warm and comfortable on the sette and having just eaten a lot. However on this occasion I fell asleep because the film was rubbish. The plot development was constant. Constantly slow and boring. Things seemed to happen, but with no explanation of what was causing them or why. I admit, I may have missed part of the film, but i watched the majority of it and everything just seemed to happen of its own accord without any real concern for anything else. I cant recommend this film at all.'\n"
          ],
          "name": "stdout"
        }
      ]
    },
    {
      "cell_type": "code",
      "metadata": {
        "id": "Lt8R0Sex7DTh",
        "colab_type": "code",
        "colab": {}
      },
      "source": [
        "import io\n",
        "\n",
        "out_v = io.open('vecs.tsv', 'w', encoding='utf-8')\n",
        "out_m = io.open('meta.tsv', 'w', encoding='utf-8')\n",
        "for word_num in range(1, vocab_size):\n",
        "  word = reverse_word_index[word_num]\n",
        "  embeddings = weights[word_num]\n",
        "  out_m.write(word + \"\\n\")\n",
        "  out_v.write('\\t'.join([str(x) for x in embeddings]) + \"\\n\")\n",
        "out_v.close()\n",
        "out_m.close()"
      ],
      "execution_count": 0,
      "outputs": []
    },
    {
      "cell_type": "code",
      "metadata": {
        "id": "Fwu_622h-yOH",
        "colab_type": "code",
        "colab": {}
      },
      "source": [
        "\n",
        "\n",
        "try:\n",
        "  from google.colab import files\n",
        "except ImportError:\n",
        "  pass\n",
        "else:\n",
        "  files.download('vecs.tsv')\n",
        "  files.download('meta.tsv')"
      ],
      "execution_count": 0,
      "outputs": []
    },
    {
      "cell_type": "code",
      "metadata": {
        "id": "vhrZOkld_ogD",
        "colab_type": "code",
        "colab": {}
      },
      "source": [
        ""
      ],
      "execution_count": 0,
      "outputs": []
    }
  ]
}